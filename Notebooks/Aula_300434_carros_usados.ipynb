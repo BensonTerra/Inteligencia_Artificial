{
 "cells": [
  {
   "cell_type": "code",
   "execution_count": null,
   "metadata": {},
   "outputs": [],
   "source": [
    "import pandas as pd\n",
    "import matplotlib.pyplot as plt\n",
    "import numpy as np\n",
    "import seaborn as sns"
   ]
  },
  {
   "cell_type": "code",
   "execution_count": null,
   "metadata": {},
   "outputs": [],
   "source": [
    "df=pd.read_csv(\"../Datasets/carros_usados_exercicio.csv\")\n",
    "df.head()"
   ]
  },
  {
   "cell_type": "markdown",
   "metadata": {},
   "source": []
  },
  {
   "cell_type": "code",
   "execution_count": null,
   "metadata": {},
   "outputs": [],
   "source": [
    "df.describe()"
   ]
  },
  {
   "cell_type": "code",
   "execution_count": null,
   "metadata": {},
   "outputs": [],
   "source": [
    "df.describe(exclude=np.number)"
   ]
  },
  {
   "cell_type": "code",
   "execution_count": null,
   "metadata": {},
   "outputs": [],
   "source": [
    "df.dtypes"
   ]
  },
  {
   "cell_type": "code",
   "execution_count": null,
   "metadata": {},
   "outputs": [],
   "source": [
    "df.isna().sum()"
   ]
  },
  {
   "cell_type": "code",
   "execution_count": null,
   "metadata": {},
   "outputs": [],
   "source": [
    "df.isnull().sum()"
   ]
  },
  {
   "cell_type": "markdown",
   "metadata": {},
   "source": [
    "# Tratamento do atributo unnamed"
   ]
  },
  {
   "cell_type": "code",
   "execution_count": null,
   "metadata": {},
   "outputs": [],
   "source": [
    "df.columns"
   ]
  },
  {
   "cell_type": "code",
   "execution_count": null,
   "metadata": {},
   "outputs": [],
   "source": [
    "df=df.drop(['Unnamed: 0'],axis=1)\n",
    "df.head()"
   ]
  },
  {
   "cell_type": "markdown",
   "metadata": {},
   "source": [
    "# Tratamento do atributo model"
   ]
  },
  {
   "cell_type": "code",
   "execution_count": null,
   "metadata": {},
   "outputs": [],
   "source": [
    "from sklearn.preprocessing import OrdinalEncoder\n",
    "enc=OrdinalEncoder()\n",
    "df['model']=enc.fit_transform(df[['model']])\n",
    "df.head()"
   ]
  },
  {
   "cell_type": "markdown",
   "metadata": {},
   "source": [
    "# Tratamento do atributo year"
   ]
  },
  {
   "cell_type": "code",
   "execution_count": null,
   "metadata": {},
   "outputs": [],
   "source": [
    "atributo='year'"
   ]
  },
  {
   "cell_type": "code",
   "execution_count": null,
   "metadata": {},
   "outputs": [],
   "source": [
    "sns.displot(df[atributo].dropna())"
   ]
  },
  {
   "cell_type": "markdown",
   "metadata": {},
   "source": [
    "# Tratamento do atributo transmission"
   ]
  },
  {
   "cell_type": "code",
   "execution_count": null,
   "metadata": {},
   "outputs": [],
   "source": [
    "atributo='transmission'"
   ]
  },
  {
   "cell_type": "code",
   "execution_count": null,
   "metadata": {},
   "outputs": [],
   "source": [
    "df.groupby(atributo).sum()"
   ]
  },
  {
   "cell_type": "code",
   "execution_count": null,
   "metadata": {},
   "outputs": [],
   "source": [
    "posicao_desejada = df.columns.get_loc(atributo)\n",
    "posicao_desejada"
   ]
  },
  {
   "cell_type": "code",
   "execution_count": null,
   "metadata": {},
   "outputs": [],
   "source": [
    "mapa_transmission = { 'Automatic':1, 'Semi-Auto':2,'Manual':3,'Other':4}\n",
    "df['transmission_encoded'] = df[atributo].map(mapa_transmission)\n",
    "\n",
    "nome_coluna = 'transmission_encoded'\n",
    "coluna = df.pop(nome_coluna)\n",
    "df.insert(posicao_desejada, nome_coluna, coluna)\n",
    "df=df.drop([atributo],axis=1)\n",
    "df"
   ]
  },
  {
   "cell_type": "markdown",
   "metadata": {},
   "source": [
    "# Tratamento do atributo fuelType"
   ]
  },
  {
   "cell_type": "code",
   "execution_count": null,
   "metadata": {},
   "outputs": [],
   "source": [
    "atributo='fuelType'\n",
    "posicao_desejada = df.columns.get_loc(atributo);posicao_desejada"
   ]
  },
  {
   "cell_type": "code",
   "execution_count": null,
   "metadata": {},
   "outputs": [],
   "source": [
    "df.groupby(atributo).sum()"
   ]
  },
  {
   "cell_type": "code",
   "execution_count": null,
   "metadata": {},
   "outputs": [],
   "source": [
    "mapa_fuelType = { 'Petrol':1,'Diesel':2,'Hybrid':3,'Electric':4,'Other':5}\n",
    "df['fuelType_encoded'] = df[atributo].map(mapa_fuelType)\n",
    "\n",
    "nome_coluna = 'fuelType_encoded'\n",
    "coluna = df.pop(nome_coluna)\n",
    "df.insert(posicao_desejada, nome_coluna, coluna)\n",
    "df=df.drop([atributo],axis=1)\n",
    "df"
   ]
  },
  {
   "cell_type": "markdown",
   "metadata": {},
   "source": [
    "# Tratamento do atributo Make"
   ]
  },
  {
   "cell_type": "code",
   "execution_count": null,
   "metadata": {},
   "outputs": [],
   "source": [
    "atributo='Make'\n",
    "posicao_desejada = df.columns.get_loc(atributo);posicao_desejada"
   ]
  },
  {
   "cell_type": "code",
   "execution_count": null,
   "metadata": {},
   "outputs": [],
   "source": [
    "df.groupby(atributo).sum()"
   ]
  },
  {
   "cell_type": "code",
   "execution_count": null,
   "metadata": {},
   "outputs": [],
   "source": [
    "mapa_Make = { 'BMW':1,'Ford':2,'Hyundai':3,'audi':4,'skoda':5,'toyota':6,'vw':7 }\n",
    "df['Make_encoded'] = df[atributo].map(mapa_Make)\n",
    "\n",
    "nome_coluna = 'Make_encoded'\n",
    "coluna = df.pop(nome_coluna)\n",
    "df.insert(posicao_desejada, nome_coluna, coluna)\n",
    "df=df.drop([atributo],axis=1)\n",
    "df"
   ]
  },
  {
   "cell_type": "markdown",
   "metadata": {},
   "source": [
    "# Determinar valor do carro baseado nos dados do veiculo"
   ]
  },
  {
   "cell_type": "code",
   "execution_count": null,
   "metadata": {},
   "outputs": [],
   "source": [
    "X=df.drop(['price'],axis=1)\n",
    "y=df['price']"
   ]
  },
  {
   "cell_type": "code",
   "execution_count": null,
   "metadata": {},
   "outputs": [],
   "source": [
    "from sklearn.model_selection import train_test_split"
   ]
  },
  {
   "cell_type": "code",
   "execution_count": null,
   "metadata": {},
   "outputs": [],
   "source": [
    "X_train, X_test, y_train, y_test = train_test_split(X,y, test_size=0.3, random_state=24)"
   ]
  },
  {
   "cell_type": "markdown",
   "metadata": {},
   "source": [
    "## Linear Regression"
   ]
  },
  {
   "cell_type": "code",
   "execution_count": null,
   "metadata": {},
   "outputs": [],
   "source": [
    "from sklearn.linear_model import LinearRegression\n",
    "\n",
    "lr =LinearRegression()\n",
    "lr.fit(X_train, y_train)"
   ]
  },
  {
   "cell_type": "code",
   "execution_count": null,
   "metadata": {},
   "outputs": [],
   "source": [
    "lr_pred= lr.predict(X_test)"
   ]
  },
  {
   "cell_type": "code",
   "execution_count": null,
   "metadata": {},
   "outputs": [],
   "source": [
    "plt.scatter(y_test, lr_pred, s=1)"
   ]
  },
  {
   "cell_type": "code",
   "execution_count": null,
   "metadata": {},
   "outputs": [],
   "source": [
    "sns.displot((y_test-lr_pred))"
   ]
  },
  {
   "cell_type": "code",
   "execution_count": null,
   "metadata": {},
   "outputs": [],
   "source": [
    "from sklearn.metrics import r2_score, mean_absolute_error as mae, mean_squared_error as mse"
   ]
  },
  {
   "cell_type": "code",
   "execution_count": null,
   "metadata": {},
   "outputs": [],
   "source": [
    "print(\"R2: \", r2_score(y_test, lr_pred))\n",
    "print(\"MAE: \", mae(y_test, lr_pred))\n",
    "print(\"MSE: \", mse(y_test, lr_pred))\n",
    "print(\"RMSE: \", np.sqrt(mse(y_test, lr_pred)))"
   ]
  },
  {
   "cell_type": "code",
   "execution_count": null,
   "metadata": {},
   "outputs": [],
   "source": [
    "def evaluate(reais, previstos):\n",
    "    _mae = mae(reais, previstos)\n",
    "    _mse = mse(reais, previstos)\n",
    "    _rmse = np.sqrt(_mse)  # Calculate RMSE from MSE\n",
    "    _r2 = r2_score(reais, previstos)\n",
    "    return round(_mae, 2), round(_mse, 2), round(_rmse, 2), round(_r2, 2)\n",
    "\n",
    "def print_evaluate(model, reais, previstos):\n",
    "    mae, mse, rmse, r2 = evaluate(reais,previstos)\n",
    "    print(\"------------------------------------------\")\n",
    "    print(\"MAE:\", mae)\n",
    "    print(\"RMSE:\", rmse)\n",
    "    print(\"R2 score:\", r2)\n",
    "    print(\"------------------------------------------\")\n",
    "    \n",
    "    results=np.array([model,mae,mse,rmse,r2])\n",
    "    results_df.loc[len(results_df)+1]= results\n",
    "\n",
    "results_df = pd.DataFrame(columns=['Model', 'MAE','MSE','RMSE','R2'])"
   ]
  },
  {
   "cell_type": "code",
   "execution_count": null,
   "metadata": {},
   "outputs": [],
   "source": [
    "from time import time\n",
    "from sklearn.model_selection import GridSearchCV\n",
    "\n",
    "def grid_search(model, params):\n",
    "    GSCV = GridSearchCV(estimator=model,\n",
    "                        param_grid=params,\n",
    "                        cv=5,\n",
    "                        n_jobs=-1,\n",
    "                        verbose=2\n",
    "                       ) \n",
    "    start=time()\n",
    "    GSCV.fit(X_train,y_train)\n",
    "    grid_time=time()-start\n",
    "    print(\"Grid time: \", grid_time)\n",
    "    print(GSCV.best_params_)\n",
    "    return GSCV.best_params_"
   ]
  },
  {
   "cell_type": "code",
   "execution_count": null,
   "metadata": {},
   "outputs": [],
   "source": [
    "#registar valores de RL\n",
    "print_evaluate(\"Linear Regression\", y_test,lr_pred)"
   ]
  },
  {
   "cell_type": "markdown",
   "metadata": {},
   "source": [
    "# Random Forest"
   ]
  },
  {
   "cell_type": "code",
   "execution_count": null,
   "metadata": {},
   "outputs": [],
   "source": [
    "from sklearn.ensemble import  RandomForestRegressor"
   ]
  },
  {
   "cell_type": "code",
   "execution_count": null,
   "metadata": {},
   "outputs": [],
   "source": [
    "rf_reg= RandomForestRegressor(random_state=24)\n",
    "\n",
    "rf_reg.fit(X_train, y_train)\n",
    "\n",
    "rf_pred = rf_reg.predict(X_test)"
   ]
  },
  {
   "cell_type": "code",
   "execution_count": null,
   "metadata": {},
   "outputs": [],
   "source": [
    "print(\"Random Forest Regressor:\")\n",
    "print_evaluate(\"Linear Regression\", y_test,rf_pred)"
   ]
  },
  {
   "cell_type": "code",
   "execution_count": null,
   "metadata": {},
   "outputs": [],
   "source": [
    "rf_reg.get_params()"
   ]
  },
  {
   "cell_type": "markdown",
   "metadata": {},
   "source": [
    "# Random Forest Otimizada"
   ]
  },
  {
   "cell_type": "code",
   "execution_count": null,
   "metadata": {},
   "outputs": [],
   "source": [
    "model = RandomForestRegressor(random_state=24)\n",
    "params ={\n",
    "    'n_estimators':[100, 500,1000],\n",
    "    'max_features':[1.0,'sqrt','log2',None],\n",
    "    'max_depth':[None, 5,10],\n",
    "    'criterion':['squared_error', 'poisson']\n",
    "}\n",
    "\n",
    "best_params = grid_search(model, params)\n",
    "best_params"
   ]
  },
  {
   "cell_type": "code",
   "execution_count": null,
   "metadata": {},
   "outputs": [],
   "source": [
    "#create a new RF\n",
    "rf_reg_2 = RandomForestRegressor(random_state=24,\n",
    "                                n_estimators=best_params['n_estimators'],\n",
    "                                max_features=best_params['max_features'],\n",
    "                                max_depth=best_params['max_depth'],\n",
    "                                criterion=best_params['criterion'])\n",
    "rf_reg_2.fit(X_train,y_train)\n",
    "rf_pred_2 = rf_reg_2.predict(X_test)\n",
    "print(\"Random Forest Regressor:\")\n",
    "print_evaluate(\"Linear Regression\", y_test,rf_pred_2)"
   ]
  }
 ],
 "metadata": {
  "kernelspec": {
   "display_name": "Python 3",
   "language": "python",
   "name": "python3"
  },
  "language_info": {
   "codemirror_mode": {
    "name": "ipython",
    "version": 3
   },
   "file_extension": ".py",
   "mimetype": "text/x-python",
   "name": "python",
   "nbconvert_exporter": "python",
   "pygments_lexer": "ipython3",
   "version": "3.12.3"
  }
 },
 "nbformat": 4,
 "nbformat_minor": 2
}
