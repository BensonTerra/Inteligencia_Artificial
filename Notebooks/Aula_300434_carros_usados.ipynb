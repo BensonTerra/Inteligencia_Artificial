{
 "cells": [
  {
   "cell_type": "code",
   "execution_count": 1,
   "metadata": {},
   "outputs": [],
   "source": [
    "import pandas as pd\n",
    "import matplotlib.pyplot as plt\n",
    "import numpy as np\n",
    "import seaborn as sns"
   ]
  },
  {
   "cell_type": "code",
   "execution_count": 2,
   "metadata": {},
   "outputs": [
    {
     "data": {
      "text/html": [
       "<div>\n",
       "<style scoped>\n",
       "    .dataframe tbody tr th:only-of-type {\n",
       "        vertical-align: middle;\n",
       "    }\n",
       "\n",
       "    .dataframe tbody tr th {\n",
       "        vertical-align: top;\n",
       "    }\n",
       "\n",
       "    .dataframe thead th {\n",
       "        text-align: right;\n",
       "    }\n",
       "</style>\n",
       "<table border=\"1\" class=\"dataframe\">\n",
       "  <thead>\n",
       "    <tr style=\"text-align: right;\">\n",
       "      <th></th>\n",
       "      <th>Unnamed: 0</th>\n",
       "      <th>model</th>\n",
       "      <th>year</th>\n",
       "      <th>price</th>\n",
       "      <th>transmission</th>\n",
       "      <th>mileage</th>\n",
       "      <th>fuelType</th>\n",
       "      <th>tax</th>\n",
       "      <th>mpg</th>\n",
       "      <th>engineSize</th>\n",
       "      <th>Make</th>\n",
       "    </tr>\n",
       "  </thead>\n",
       "  <tbody>\n",
       "    <tr>\n",
       "      <th>0</th>\n",
       "      <td>45035</td>\n",
       "      <td>Passat</td>\n",
       "      <td>2019</td>\n",
       "      <td>15695</td>\n",
       "      <td>Manual</td>\n",
       "      <td>13061</td>\n",
       "      <td>Diesel</td>\n",
       "      <td>145.0</td>\n",
       "      <td>55.4</td>\n",
       "      <td>2.0</td>\n",
       "      <td>vw</td>\n",
       "    </tr>\n",
       "    <tr>\n",
       "      <th>1</th>\n",
       "      <td>61800</td>\n",
       "      <td>Superb</td>\n",
       "      <td>2018</td>\n",
       "      <td>18798</td>\n",
       "      <td>Semi-Auto</td>\n",
       "      <td>6241</td>\n",
       "      <td>Petrol</td>\n",
       "      <td>145.0</td>\n",
       "      <td>36.7</td>\n",
       "      <td>1.5</td>\n",
       "      <td>skoda</td>\n",
       "    </tr>\n",
       "    <tr>\n",
       "      <th>2</th>\n",
       "      <td>69017</td>\n",
       "      <td>Santa Fe</td>\n",
       "      <td>2016</td>\n",
       "      <td>17690</td>\n",
       "      <td>Semi-Auto</td>\n",
       "      <td>48155</td>\n",
       "      <td>Diesel</td>\n",
       "      <td>235.0</td>\n",
       "      <td>42.2</td>\n",
       "      <td>2.2</td>\n",
       "      <td>Hyundai</td>\n",
       "    </tr>\n",
       "    <tr>\n",
       "      <th>3</th>\n",
       "      <td>20159</td>\n",
       "      <td>3 Series</td>\n",
       "      <td>2016</td>\n",
       "      <td>18599</td>\n",
       "      <td>Automatic</td>\n",
       "      <td>30333</td>\n",
       "      <td>Hybrid</td>\n",
       "      <td>0.0</td>\n",
       "      <td>134.5</td>\n",
       "      <td>2.0</td>\n",
       "      <td>BMW</td>\n",
       "    </tr>\n",
       "    <tr>\n",
       "      <th>4</th>\n",
       "      <td>1306</td>\n",
       "      <td>A5</td>\n",
       "      <td>2016</td>\n",
       "      <td>15995</td>\n",
       "      <td>Manual</td>\n",
       "      <td>54000</td>\n",
       "      <td>Diesel</td>\n",
       "      <td>145.0</td>\n",
       "      <td>54.3</td>\n",
       "      <td>2.0</td>\n",
       "      <td>audi</td>\n",
       "    </tr>\n",
       "  </tbody>\n",
       "</table>\n",
       "</div>"
      ],
      "text/plain": [
       "   Unnamed: 0      model  year  price transmission  mileage fuelType    tax  \\\n",
       "0       45035     Passat  2019  15695       Manual    13061   Diesel  145.0   \n",
       "1       61800     Superb  2018  18798    Semi-Auto     6241   Petrol  145.0   \n",
       "2       69017   Santa Fe  2016  17690    Semi-Auto    48155   Diesel  235.0   \n",
       "3       20159   3 Series  2016  18599    Automatic    30333   Hybrid    0.0   \n",
       "4        1306         A5  2016  15995       Manual    54000   Diesel  145.0   \n",
       "\n",
       "     mpg  engineSize     Make  \n",
       "0   55.4         2.0       vw  \n",
       "1   36.7         1.5    skoda  \n",
       "2   42.2         2.2  Hyundai  \n",
       "3  134.5         2.0      BMW  \n",
       "4   54.3         2.0     audi  "
      ]
     },
     "execution_count": 2,
     "metadata": {},
     "output_type": "execute_result"
    }
   ],
   "source": [
    "df=pd.read_csv(\"../Datasets/carros_usados_exercicio.csv\")\n",
    "df.head()"
   ]
  },
  {
   "cell_type": "markdown",
   "metadata": {},
   "source": []
  },
  {
   "cell_type": "code",
   "execution_count": 3,
   "metadata": {},
   "outputs": [
    {
     "data": {
      "text/html": [
       "<div>\n",
       "<style scoped>\n",
       "    .dataframe tbody tr th:only-of-type {\n",
       "        vertical-align: middle;\n",
       "    }\n",
       "\n",
       "    .dataframe tbody tr th {\n",
       "        vertical-align: top;\n",
       "    }\n",
       "\n",
       "    .dataframe thead th {\n",
       "        text-align: right;\n",
       "    }\n",
       "</style>\n",
       "<table border=\"1\" class=\"dataframe\">\n",
       "  <thead>\n",
       "    <tr style=\"text-align: right;\">\n",
       "      <th></th>\n",
       "      <th>Unnamed: 0</th>\n",
       "      <th>year</th>\n",
       "      <th>price</th>\n",
       "      <th>mileage</th>\n",
       "      <th>tax</th>\n",
       "      <th>mpg</th>\n",
       "      <th>engineSize</th>\n",
       "    </tr>\n",
       "  </thead>\n",
       "  <tbody>\n",
       "    <tr>\n",
       "      <th>count</th>\n",
       "      <td>67435.000000</td>\n",
       "      <td>67435.000000</td>\n",
       "      <td>67435.000000</td>\n",
       "      <td>67435.000000</td>\n",
       "      <td>67435.000000</td>\n",
       "      <td>67435.000000</td>\n",
       "      <td>67435.000000</td>\n",
       "    </tr>\n",
       "    <tr>\n",
       "      <th>mean</th>\n",
       "      <td>36245.761860</td>\n",
       "      <td>2017.075109</td>\n",
       "      <td>16590.036569</td>\n",
       "      <td>23159.984993</td>\n",
       "      <td>116.987766</td>\n",
       "      <td>55.822023</td>\n",
       "      <td>1.635966</td>\n",
       "    </tr>\n",
       "    <tr>\n",
       "      <th>std</th>\n",
       "      <td>20917.803003</td>\n",
       "      <td>2.102874</td>\n",
       "      <td>9322.058157</td>\n",
       "      <td>21351.731893</td>\n",
       "      <td>64.117427</td>\n",
       "      <td>17.216670</td>\n",
       "      <td>0.562606</td>\n",
       "    </tr>\n",
       "    <tr>\n",
       "      <th>min</th>\n",
       "      <td>0.000000</td>\n",
       "      <td>1996.000000</td>\n",
       "      <td>495.000000</td>\n",
       "      <td>1.000000</td>\n",
       "      <td>0.000000</td>\n",
       "      <td>0.300000</td>\n",
       "      <td>0.000000</td>\n",
       "    </tr>\n",
       "    <tr>\n",
       "      <th>25%</th>\n",
       "      <td>18129.500000</td>\n",
       "      <td>2016.000000</td>\n",
       "      <td>10189.500000</td>\n",
       "      <td>7197.500000</td>\n",
       "      <td>30.000000</td>\n",
       "      <td>47.900000</td>\n",
       "      <td>1.200000</td>\n",
       "    </tr>\n",
       "    <tr>\n",
       "      <th>50%</th>\n",
       "      <td>36254.000000</td>\n",
       "      <td>2017.000000</td>\n",
       "      <td>14495.000000</td>\n",
       "      <td>17478.000000</td>\n",
       "      <td>145.000000</td>\n",
       "      <td>55.400000</td>\n",
       "      <td>1.600000</td>\n",
       "    </tr>\n",
       "    <tr>\n",
       "      <th>75%</th>\n",
       "      <td>54371.500000</td>\n",
       "      <td>2019.000000</td>\n",
       "      <td>20389.000000</td>\n",
       "      <td>32452.000000</td>\n",
       "      <td>145.000000</td>\n",
       "      <td>62.800000</td>\n",
       "      <td>2.000000</td>\n",
       "    </tr>\n",
       "    <tr>\n",
       "      <th>max</th>\n",
       "      <td>72434.000000</td>\n",
       "      <td>2020.000000</td>\n",
       "      <td>145000.000000</td>\n",
       "      <td>323000.000000</td>\n",
       "      <td>580.000000</td>\n",
       "      <td>470.800000</td>\n",
       "      <td>6.600000</td>\n",
       "    </tr>\n",
       "  </tbody>\n",
       "</table>\n",
       "</div>"
      ],
      "text/plain": [
       "         Unnamed: 0          year          price        mileage           tax  \\\n",
       "count  67435.000000  67435.000000   67435.000000   67435.000000  67435.000000   \n",
       "mean   36245.761860   2017.075109   16590.036569   23159.984993    116.987766   \n",
       "std    20917.803003      2.102874    9322.058157   21351.731893     64.117427   \n",
       "min        0.000000   1996.000000     495.000000       1.000000      0.000000   \n",
       "25%    18129.500000   2016.000000   10189.500000    7197.500000     30.000000   \n",
       "50%    36254.000000   2017.000000   14495.000000   17478.000000    145.000000   \n",
       "75%    54371.500000   2019.000000   20389.000000   32452.000000    145.000000   \n",
       "max    72434.000000   2020.000000  145000.000000  323000.000000    580.000000   \n",
       "\n",
       "                mpg    engineSize  \n",
       "count  67435.000000  67435.000000  \n",
       "mean      55.822023      1.635966  \n",
       "std       17.216670      0.562606  \n",
       "min        0.300000      0.000000  \n",
       "25%       47.900000      1.200000  \n",
       "50%       55.400000      1.600000  \n",
       "75%       62.800000      2.000000  \n",
       "max      470.800000      6.600000  "
      ]
     },
     "execution_count": 3,
     "metadata": {},
     "output_type": "execute_result"
    }
   ],
   "source": [
    "df.describe()"
   ]
  },
  {
   "cell_type": "code",
   "execution_count": 4,
   "metadata": {},
   "outputs": [
    {
     "data": {
      "text/html": [
       "<div>\n",
       "<style scoped>\n",
       "    .dataframe tbody tr th:only-of-type {\n",
       "        vertical-align: middle;\n",
       "    }\n",
       "\n",
       "    .dataframe tbody tr th {\n",
       "        vertical-align: top;\n",
       "    }\n",
       "\n",
       "    .dataframe thead th {\n",
       "        text-align: right;\n",
       "    }\n",
       "</style>\n",
       "<table border=\"1\" class=\"dataframe\">\n",
       "  <thead>\n",
       "    <tr style=\"text-align: right;\">\n",
       "      <th></th>\n",
       "      <th>model</th>\n",
       "      <th>transmission</th>\n",
       "      <th>fuelType</th>\n",
       "      <th>Make</th>\n",
       "    </tr>\n",
       "  </thead>\n",
       "  <tbody>\n",
       "    <tr>\n",
       "      <th>count</th>\n",
       "      <td>67435</td>\n",
       "      <td>67435</td>\n",
       "      <td>67435</td>\n",
       "      <td>67435</td>\n",
       "    </tr>\n",
       "    <tr>\n",
       "      <th>unique</th>\n",
       "      <td>146</td>\n",
       "      <td>4</td>\n",
       "      <td>5</td>\n",
       "      <td>7</td>\n",
       "    </tr>\n",
       "    <tr>\n",
       "      <th>top</th>\n",
       "      <td>Fiesta</td>\n",
       "      <td>Manual</td>\n",
       "      <td>Petrol</td>\n",
       "      <td>Ford</td>\n",
       "    </tr>\n",
       "    <tr>\n",
       "      <th>freq</th>\n",
       "      <td>6108</td>\n",
       "      <td>40045</td>\n",
       "      <td>37612</td>\n",
       "      <td>16716</td>\n",
       "    </tr>\n",
       "  </tbody>\n",
       "</table>\n",
       "</div>"
      ],
      "text/plain": [
       "          model transmission fuelType   Make\n",
       "count     67435        67435    67435  67435\n",
       "unique      146            4        5      7\n",
       "top      Fiesta       Manual   Petrol   Ford\n",
       "freq       6108        40045    37612  16716"
      ]
     },
     "execution_count": 4,
     "metadata": {},
     "output_type": "execute_result"
    }
   ],
   "source": [
    "df.describe(exclude=np.number)"
   ]
  },
  {
   "cell_type": "code",
   "execution_count": 5,
   "metadata": {},
   "outputs": [
    {
     "data": {
      "text/plain": [
       "Unnamed: 0        int64\n",
       "model            object\n",
       "year              int64\n",
       "price             int64\n",
       "transmission     object\n",
       "mileage           int64\n",
       "fuelType         object\n",
       "tax             float64\n",
       "mpg             float64\n",
       "engineSize      float64\n",
       "Make             object\n",
       "dtype: object"
      ]
     },
     "execution_count": 5,
     "metadata": {},
     "output_type": "execute_result"
    }
   ],
   "source": [
    "df.dtypes"
   ]
  },
  {
   "cell_type": "code",
   "execution_count": null,
   "metadata": {},
   "outputs": [],
   "source": [
    "df.isna().sum()"
   ]
  },
  {
   "cell_type": "code",
   "execution_count": null,
   "metadata": {},
   "outputs": [],
   "source": [
    "df.isnull().sum()"
   ]
  },
  {
   "cell_type": "markdown",
   "metadata": {},
   "source": [
    "# Tratamento do atributo unnamed"
   ]
  },
  {
   "cell_type": "code",
   "execution_count": null,
   "metadata": {},
   "outputs": [],
   "source": [
    "df.columns"
   ]
  },
  {
   "cell_type": "code",
   "execution_count": null,
   "metadata": {},
   "outputs": [],
   "source": [
    "df=df.drop(['Unnamed: 0'],axis=1)\n",
    "df.head()"
   ]
  },
  {
   "cell_type": "markdown",
   "metadata": {},
   "source": [
    "# Tratamento do atributo model"
   ]
  },
  {
   "cell_type": "code",
   "execution_count": null,
   "metadata": {},
   "outputs": [],
   "source": [
    "from sklearn.preprocessing import OrdinalEncoder\n",
    "enc=OrdinalEncoder()\n",
    "df['model']=enc.fit_transform(df[['model']])\n",
    "df.head()"
   ]
  },
  {
   "cell_type": "markdown",
   "metadata": {},
   "source": [
    "# Tratamento do atributo year"
   ]
  },
  {
   "cell_type": "code",
   "execution_count": null,
   "metadata": {},
   "outputs": [],
   "source": [
    "atributo='year'"
   ]
  },
  {
   "cell_type": "code",
   "execution_count": null,
   "metadata": {},
   "outputs": [],
   "source": [
    "sns.displot(df[atributo].dropna())"
   ]
  },
  {
   "cell_type": "markdown",
   "metadata": {},
   "source": [
    "# Tratamento do atributo transmission"
   ]
  },
  {
   "cell_type": "code",
   "execution_count": null,
   "metadata": {},
   "outputs": [],
   "source": [
    "atributo='transmission'"
   ]
  },
  {
   "cell_type": "code",
   "execution_count": null,
   "metadata": {},
   "outputs": [],
   "source": [
    "df.groupby(atributo).sum()"
   ]
  },
  {
   "cell_type": "code",
   "execution_count": null,
   "metadata": {},
   "outputs": [],
   "source": [
    "posicao_desejada = df.columns.get_loc(atributo)\n",
    "posicao_desejada"
   ]
  },
  {
   "cell_type": "code",
   "execution_count": null,
   "metadata": {},
   "outputs": [],
   "source": [
    "mapa_transmission = { 'Automatic':1, 'Semi-Auto':2,'Manual':3,'Other':4}\n",
    "df['transmission_encoded'] = df[atributo].map(mapa_transmission)\n",
    "\n",
    "nome_coluna = 'transmission_encoded'\n",
    "coluna = df.pop(nome_coluna)\n",
    "df.insert(posicao_desejada, nome_coluna, coluna)\n",
    "df=df.drop([atributo],axis=1)\n",
    "df"
   ]
  },
  {
   "cell_type": "markdown",
   "metadata": {},
   "source": [
    "# Tratamento do atributo fuelType"
   ]
  },
  {
   "cell_type": "code",
   "execution_count": null,
   "metadata": {},
   "outputs": [],
   "source": [
    "atributo='fuelType'\n",
    "posicao_desejada = df.columns.get_loc(atributo);posicao_desejada"
   ]
  },
  {
   "cell_type": "code",
   "execution_count": null,
   "metadata": {},
   "outputs": [],
   "source": [
    "df.groupby(atributo).sum()"
   ]
  },
  {
   "cell_type": "code",
   "execution_count": null,
   "metadata": {},
   "outputs": [],
   "source": [
    "mapa_fuelType = { 'Petrol':1,'Diesel':2,'Hybrid':3,'Electric':4,'Other':5}\n",
    "df['fuelType_encoded'] = df[atributo].map(mapa_fuelType)\n",
    "\n",
    "nome_coluna = 'fuelType_encoded'\n",
    "coluna = df.pop(nome_coluna)\n",
    "df.insert(posicao_desejada, nome_coluna, coluna)\n",
    "df=df.drop([atributo],axis=1)\n",
    "df"
   ]
  },
  {
   "cell_type": "markdown",
   "metadata": {},
   "source": [
    "# Tratamento do atributo Make"
   ]
  },
  {
   "cell_type": "code",
   "execution_count": null,
   "metadata": {},
   "outputs": [],
   "source": [
    "atributo='Make'\n",
    "posicao_desejada = df.columns.get_loc(atributo);posicao_desejada"
   ]
  },
  {
   "cell_type": "code",
   "execution_count": null,
   "metadata": {},
   "outputs": [],
   "source": [
    "df.groupby(atributo).sum()"
   ]
  },
  {
   "cell_type": "code",
   "execution_count": null,
   "metadata": {},
   "outputs": [],
   "source": [
    "mapa_Make = { 'BMW':1,'Ford':2,'Hyundai':3,'audi':4,'skoda':5,'toyota':6,'vw':7 }\n",
    "df['Make_encoded'] = df[atributo].map(mapa_Make)\n",
    "\n",
    "nome_coluna = 'Make_encoded'\n",
    "coluna = df.pop(nome_coluna)\n",
    "df.insert(posicao_desejada, nome_coluna, coluna)\n",
    "df=df.drop([atributo],axis=1)\n",
    "df"
   ]
  },
  {
   "cell_type": "markdown",
   "metadata": {},
   "source": [
    "# Determinar valor do carro baseado nos dados do veiculo"
   ]
  },
  {
   "cell_type": "code",
   "execution_count": null,
   "metadata": {},
   "outputs": [],
   "source": [
    "X=df.drop(['price'],axis=1)\n",
    "y=df['price']"
   ]
  },
  {
   "cell_type": "code",
   "execution_count": null,
   "metadata": {},
   "outputs": [],
   "source": [
    "from sklearn.model_selection import train_test_split"
   ]
  },
  {
   "cell_type": "code",
   "execution_count": null,
   "metadata": {},
   "outputs": [],
   "source": [
    "X_train, X_test, y_train, y_test = train_test_split(X,y, test_size=0.3, random_state=24)"
   ]
  },
  {
   "cell_type": "markdown",
   "metadata": {},
   "source": [
    "## Linear Regression"
   ]
  },
  {
   "cell_type": "code",
   "execution_count": null,
   "metadata": {},
   "outputs": [],
   "source": [
    "from sklearn.linear_model import LinearRegression\n",
    "\n",
    "lr =LinearRegression()\n",
    "lr.fit(X_train, y_train)"
   ]
  },
  {
   "cell_type": "code",
   "execution_count": null,
   "metadata": {},
   "outputs": [],
   "source": [
    "lr_pred= lr.predict(X_test)"
   ]
  },
  {
   "cell_type": "code",
   "execution_count": null,
   "metadata": {},
   "outputs": [],
   "source": [
    "plt.scatter(y_test, lr_pred, s=1)"
   ]
  },
  {
   "cell_type": "code",
   "execution_count": null,
   "metadata": {},
   "outputs": [],
   "source": [
    "sns.displot((y_test-lr_pred))"
   ]
  },
  {
   "cell_type": "code",
   "execution_count": null,
   "metadata": {},
   "outputs": [],
   "source": [
    "from sklearn.metrics import r2_score, mean_absolute_error as mae, mean_squared_error as mse"
   ]
  },
  {
   "cell_type": "code",
   "execution_count": null,
   "metadata": {},
   "outputs": [],
   "source": [
    "print(\"R2: \", r2_score(y_test, lr_pred))\n",
    "print(\"MAE: \", mae(y_test, lr_pred))\n",
    "print(\"MSE: \", mse(y_test, lr_pred))\n",
    "print(\"RMSE: \", np.sqrt(mse(y_test, lr_pred)))"
   ]
  },
  {
   "cell_type": "code",
   "execution_count": null,
   "metadata": {},
   "outputs": [],
   "source": [
    "def evaluate(reais, previstos):\n",
    "    _mae = mae(reais, previstos)\n",
    "    _mse = mse(reais, previstos)\n",
    "    _rmse = np.sqrt(_mse)  # Calculate RMSE from MSE\n",
    "    _r2 = r2_score(reais, previstos)\n",
    "    return round(_mae, 2), round(_mse, 2), round(_rmse, 2), round(_r2, 2)\n",
    "\n",
    "def print_evaluate(model, reais, previstos):\n",
    "    mae, mse, rmse, r2 = evaluate(reais,previstos)\n",
    "    print(\"------------------------------------------\")\n",
    "    print(\"MAE:\", mae)\n",
    "    print(\"RMSE:\", rmse)\n",
    "    print(\"R2 score:\", r2)\n",
    "    print(\"------------------------------------------\")\n",
    "    \n",
    "    results=np.array([model,mae,mse,rmse,r2])\n",
    "    results_df.loc[len(results_df)+1]= results\n",
    "\n",
    "results_df = pd.DataFrame(columns=['Model', 'MAE','MSE','RMSE','R2'])"
   ]
  },
  {
   "cell_type": "code",
   "execution_count": null,
   "metadata": {},
   "outputs": [],
   "source": [
    "from time import time\n",
    "from sklearn.model_selection import GridSearchCV\n",
    "\n",
    "def grid_search(model, params):\n",
    "    GSCV = GridSearchCV(estimator=model,\n",
    "                        param_grid=params,\n",
    "                        cv=5,\n",
    "                        n_jobs=-1,\n",
    "                        verbose=2\n",
    "                       ) \n",
    "    start=time()\n",
    "    GSCV.fit(X_train,y_train)\n",
    "    grid_time=time()-start\n",
    "    print(\"Grid time: \", grid_time)\n",
    "    print(GSCV.best_params_)\n",
    "    return GSCV.best_params_"
   ]
  },
  {
   "cell_type": "code",
   "execution_count": null,
   "metadata": {},
   "outputs": [],
   "source": [
    "#registar valores de RL\n",
    "print_evaluate(\"Linear Regression\", y_test,lr_pred)"
   ]
  },
  {
   "cell_type": "markdown",
   "metadata": {},
   "source": [
    "# Random Forest"
   ]
  },
  {
   "cell_type": "code",
   "execution_count": null,
   "metadata": {},
   "outputs": [],
   "source": [
    "from sklearn.ensemble import  RandomForestRegressor"
   ]
  },
  {
   "cell_type": "code",
   "execution_count": null,
   "metadata": {},
   "outputs": [],
   "source": [
    "rf_reg= RandomForestRegressor(random_state=24)\n",
    "\n",
    "rf_reg.fit(X_train, y_train)\n",
    "\n",
    "rf_pred = rf_reg.predict(X_test)"
   ]
  },
  {
   "cell_type": "code",
   "execution_count": null,
   "metadata": {},
   "outputs": [],
   "source": [
    "print(\"Random Forest Regressor:\")\n",
    "print_evaluate(\"Linear Regression\", y_test,rf_pred)"
   ]
  },
  {
   "cell_type": "code",
   "execution_count": null,
   "metadata": {},
   "outputs": [],
   "source": [
    "rf_reg.get_params()"
   ]
  },
  {
   "cell_type": "markdown",
   "metadata": {},
   "source": [
    "# Random Forest Otimizada"
   ]
  },
  {
   "cell_type": "code",
   "execution_count": null,
   "metadata": {},
   "outputs": [],
   "source": [
    "model = RandomForestRegressor(random_state=24)\n",
    "params ={\n",
    "    'n_estimators':[100, 500,1000],\n",
    "    'max_features':[1.0,'sqrt','log2',None],\n",
    "    'max_depth':[None, 5,10],\n",
    "    'criterion':['squared_error', 'poisson']\n",
    "}\n",
    "\n",
    "best_params = grid_search(model, params)\n",
    "best_params"
   ]
  },
  {
   "cell_type": "code",
   "execution_count": null,
   "metadata": {},
   "outputs": [],
   "source": [
    "#create a new RF\n",
    "rf_reg_2 = RandomForestRegressor(random_state=24,\n",
    "                                n_estimators=best_params['n_estimators'],\n",
    "                                max_features=best_params['max_features'],\n",
    "                                max_depth=best_params['max_depth'],\n",
    "                                criterion=best_params['criterion'])\n",
    "rf_reg_2.fit(X_train,y_train)\n",
    "rf_pred_2 = rf_reg_2.predict(X_test)\n",
    "print(\"Random Forest Regressor:\")\n",
    "print_evaluate(\"Linear Regression\", y_test,rf_pred_2)"
   ]
  }
 ],
 "metadata": {
  "kernelspec": {
   "display_name": "Python 3",
   "language": "python",
   "name": "python3"
  },
  "language_info": {
   "codemirror_mode": {
    "name": "ipython",
    "version": 3
   },
   "file_extension": ".py",
   "mimetype": "text/x-python",
   "name": "python",
   "nbconvert_exporter": "python",
   "pygments_lexer": "ipython3",
   "version": "3.12.3"
  }
 },
 "nbformat": 4,
 "nbformat_minor": 2
}
