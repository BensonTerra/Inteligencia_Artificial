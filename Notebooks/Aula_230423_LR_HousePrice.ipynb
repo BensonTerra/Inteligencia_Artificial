{
 "cells": [
  {
   "cell_type": "markdown",
   "id": "092a1cba",
   "metadata": {},
   "source": [
    "# USA HOUSING CRISIS\n"
   ]
  },
  {
   "cell_type": "code",
   "execution_count": null,
   "id": "9ff5e93e",
   "metadata": {},
   "outputs": [],
   "source": [
    "import pandas as pd\n",
    "import matplotlib.pyplot as plt\n",
    "import numpy as np\n",
    "import seaborn as sns"
   ]
  },
  {
   "cell_type": "markdown",
   "id": "6914df46",
   "metadata": {},
   "source": [
    "## Ver /Descrever dados"
   ]
  },
  {
   "cell_type": "code",
   "execution_count": null,
   "id": "61885e1b",
   "metadata": {},
   "outputs": [],
   "source": [
    "# Ler o DataSet\n",
    "df=pd.read_csv(\"../Datasets/USA_Housing.csv\")\n",
    "df.head()"
   ]
  },
  {
   "cell_type": "code",
   "execution_count": null,
   "id": "30efd7fa",
   "metadata": {},
   "outputs": [],
   "source": [
    "df.info()"
   ]
  },
  {
   "cell_type": "code",
   "execution_count": null,
   "id": "b53d502c",
   "metadata": {},
   "outputs": [],
   "source": [
    "df.describe()"
   ]
  },
  {
   "cell_type": "code",
   "execution_count": null,
   "id": "40dbe310",
   "metadata": {},
   "outputs": [],
   "source": [
    "df.columns"
   ]
  },
  {
   "cell_type": "code",
   "execution_count": null,
   "id": "c9ae903b",
   "metadata": {},
   "outputs": [],
   "source": [
    "df.rename(columns={\n",
    "    'Avg. Area Income': \"Income\",\n",
    "    'Avg. Area House Age': \"Age\",\n",
    "    'Avg. Area Number of Rooms': \"Rooms\",    \n",
    "    'Avg. Area Number of Bedrooms': \"Bedrooms\",\n",
    "    'Area Population': \"Population\"\n",
    "}, inplace=True)"
   ]
  },
  {
   "cell_type": "code",
   "execution_count": null,
   "id": "4b91494f",
   "metadata": {},
   "outputs": [],
   "source": [
    "plt.figure(figsize=(6,4))\n",
    "sns.heatmap(df.drop(['Address'], axis=1).corr(), annot=True)"
   ]
  },
  {
   "cell_type": "code",
   "execution_count": null,
   "id": "ea908b7c",
   "metadata": {},
   "outputs": [],
   "source": [
    "sns.pairplot(df)"
   ]
  },
  {
   "cell_type": "code",
   "execution_count": null,
   "id": "bb454511",
   "metadata": {},
   "outputs": [],
   "source": [
    "df.columns"
   ]
  },
  {
   "cell_type": "code",
   "execution_count": null,
   "id": "a0b93c26",
   "metadata": {},
   "outputs": [],
   "source": [
    "#scale the attributes using normal scaler\n",
    "from sklearn.preprocessing import StandardScaler\n",
    "standardScaler = StandardScaler()\n",
    "columns_to_scale = ['Income', 'Age', 'Rooms', 'Bedrooms', 'Population']\n",
    "df[columns_to_scale] = standardScaler.fit_transform(df[columns_to_scale])\n",
    "df"
   ]
  },
  {
   "cell_type": "code",
   "execution_count": null,
   "id": "758debed",
   "metadata": {},
   "outputs": [],
   "source": [
    "X=df.drop(['Price','Address'],axis=1)\n",
    "y=df['Price']"
   ]
  },
  {
   "cell_type": "code",
   "execution_count": null,
   "id": "b5a95d9e",
   "metadata": {},
   "outputs": [],
   "source": [
    "from sklearn.model_selection import train_test_split\n",
    "\n",
    "X_train, X_test, y_train, y_test = train_test_split(X,y, test_size=0.3, random_state=24)"
   ]
  },
  {
   "cell_type": "markdown",
   "id": "67a0d480",
   "metadata": {},
   "source": [
    "## Linear Regression"
   ]
  },
  {
   "cell_type": "code",
   "execution_count": null,
   "id": "0fd4bbe9",
   "metadata": {},
   "outputs": [],
   "source": [
    "from sklearn.linear_model import LinearRegression\n",
    "\n",
    "lr =LinearRegression()\n",
    "lr.fit(X_train, y_train)"
   ]
  },
  {
   "cell_type": "code",
   "execution_count": null,
   "id": "753b893e",
   "metadata": {},
   "outputs": [],
   "source": [
    "lr_pred= lr.predict(X_test)"
   ]
  },
  {
   "cell_type": "code",
   "execution_count": null,
   "id": "37fa06b0",
   "metadata": {},
   "outputs": [],
   "source": [
    "plt.scatter(y_test, lr_pred, s=1)"
   ]
  },
  {
   "cell_type": "code",
   "execution_count": null,
   "id": "82682eef",
   "metadata": {},
   "outputs": [],
   "source": [
    "sns.displot((y_test-lr_pred))"
   ]
  },
  {
   "cell_type": "code",
   "execution_count": null,
   "id": "e58b6d76",
   "metadata": {},
   "outputs": [],
   "source": [
    "from sklearn.metrics import r2_score, mean_absolute_error as mae, mean_squared_error as mse"
   ]
  },
  {
   "cell_type": "code",
   "execution_count": null,
   "id": "623ac17d",
   "metadata": {},
   "outputs": [],
   "source": [
    "print(\"R2: \", r2_score(y_test, lr_pred))\n",
    "print(\"MAE: \", mae(y_test, lr_pred))\n",
    "print(\"MSE: \", mse(y_test, lr_pred))\n",
    "print(\"RMSE: \", np.sqrt(mse(y_test, lr_pred)))"
   ]
  },
  {
   "cell_type": "markdown",
   "id": "b07a8dec",
   "metadata": {},
   "source": [
    "# 26/04/24"
   ]
  },
  {
   "cell_type": "markdown",
   "id": "635edd0e",
   "metadata": {},
   "source": [
    "## Criar Funções para apresentar avaliação de perfomance"
   ]
  },
  {
   "cell_type": "code",
   "execution_count": null,
   "id": "3a737598",
   "metadata": {},
   "outputs": [],
   "source": [
    "def evaluate(reais, previstos):\n",
    "    _mae = mae(reais, previstos)\n",
    "    _mse = mse(reais, previstos)\n",
    "    _rmse = np.sqrt(_mse)  # Calculate RMSE from MSE\n",
    "    _r2 = r2_score(reais, previstos)\n",
    "    return round(_mae, 2), round(_mse, 2), round(_rmse, 2), round(_r2, 2)\n",
    "\n",
    "def print_evaluate(model, reais, previstos):\n",
    "    mae, mse, rmse, r2 = evaluate(reais,previstos)\n",
    "    print(\"------------------------------------------\")\n",
    "    print(\"MAE:\", mae)\n",
    "    print(\"RMSE:\", rmse)\n",
    "    print(\"R2 score:\", r2)\n",
    "    print(\"------------------------------------------\")\n",
    "    \n",
    "    results=np.array([model,mae,mse,rmse,r2])\n",
    "    results_df.loc[len(results_df)+1]= results\n",
    "\n",
    "results_df = pd.DataFrame(columns=['Model', 'MAE','MSE','RMSE','R2'])"
   ]
  },
  {
   "cell_type": "code",
   "execution_count": null,
   "id": "ea608d33",
   "metadata": {},
   "outputs": [],
   "source": [
    "from time import time\n",
    "from sklearn.model_selection import GridSearchCV\n",
    "\n",
    "def grid_search(model, params):\n",
    "    GSCV = GridSearchCV(estimator=model,\n",
    "                        param_grid=params,\n",
    "                        cv=5,\n",
    "                        n_jobs=-1,\n",
    "                        verbose=2\n",
    "                       ) \n",
    "    start=time()\n",
    "    GSCV.fit(X_train,y_train)\n",
    "    grid_time=time()-start\n",
    "    print(\"Grid time: \", grid_time)\n",
    "    print(GSCV.best_params_)\n",
    "    return GSCV.best_params_"
   ]
  },
  {
   "cell_type": "code",
   "execution_count": null,
   "id": "78fe017f",
   "metadata": {},
   "outputs": [],
   "source": [
    "#registar valores de RL\n",
    "print_evaluate(\"Linear Regression\", y_test,lr_pred)"
   ]
  },
  {
   "cell_type": "markdown",
   "id": "b92e335d",
   "metadata": {},
   "source": [
    "# Random Forest"
   ]
  },
  {
   "cell_type": "code",
   "execution_count": null,
   "id": "c42e79eb",
   "metadata": {},
   "outputs": [],
   "source": [
    "from sklearn.ensemble import  RandomForestRegressor"
   ]
  },
  {
   "cell_type": "code",
   "execution_count": null,
   "id": "fee8ef28",
   "metadata": {},
   "outputs": [],
   "source": [
    "rf_reg= RandomForestRegressor(random_state=24)\n",
    "\n",
    "rf_reg.fit(X_train, y_train)\n",
    "\n",
    "rf_pred = rf_reg.predict(X_test)"
   ]
  },
  {
   "cell_type": "code",
   "execution_count": null,
   "id": "2104a4a7",
   "metadata": {},
   "outputs": [],
   "source": [
    "print(\"Random Forest Regressor:\")\n",
    "print_evaluate(\"Linear Regression\", y_test,rf_pred)"
   ]
  },
  {
   "cell_type": "code",
   "execution_count": null,
   "id": "418fbf09",
   "metadata": {},
   "outputs": [],
   "source": [
    "rf_reg.get_params()"
   ]
  },
  {
   "cell_type": "markdown",
   "id": "eb57bef4",
   "metadata": {},
   "source": [
    "# Optimize RF"
   ]
  },
  {
   "cell_type": "code",
   "execution_count": null,
   "id": "a2c6efdb",
   "metadata": {},
   "outputs": [],
   "source": [
    "model = RandomForestRegressor(random_state=24)\n",
    "params ={\n",
    "    'n_estimators':[100, 500,1000],\n",
    "    'max_features':[1.0,'sqrt','log2',None],\n",
    "    'max_depth':[None, 5,10],\n",
    "    'criterion':['squared_error', 'poisson']\n",
    "}\n",
    "\n",
    "best_params = grid_search(model, params)\n",
    "best_params"
   ]
  },
  {
   "cell_type": "code",
   "execution_count": null,
   "id": "5947cd1d",
   "metadata": {},
   "outputs": [],
   "source": [
    "#create a new RF\n",
    "rf_reg_2 = RandomForestRegressor(random_state=24,\n",
    "                                n_estimators=best_params['n_estimators'],\n",
    "                                max_features=best_params['max_features'],\n",
    "                                max_depth=best_params['max_depth'],\n",
    "                                criterion=best_params['criterion'])\n",
    "rf_reg_2.fit(X_train,y_train)\n",
    "rf_pred_2 = rf_reg_2.predict(X_test)\n",
    "print(\"Random Forest Regressor:\")\n",
    "print_evaluate(\"Linear Regression\", y_test,rf_pred_2)"
   ]
  },
  {
   "cell_type": "markdown",
   "id": "c41fa17c",
   "metadata": {},
   "source": [
    "# SVM"
   ]
  },
  {
   "cell_type": "code",
   "execution_count": null,
   "id": "08e48867",
   "metadata": {},
   "outputs": [],
   "source": [
    "from sklearn.svm import SVR"
   ]
  },
  {
   "cell_type": "code",
   "execution_count": null,
   "id": "7ec29095",
   "metadata": {},
   "outputs": [],
   "source": [
    "svr= SVR()\n",
    "\n",
    "svr.fit(X_train, y_train)\n",
    "\n",
    "svr_pred = svr.predict(X_test)\n",
    "print(\"Random Forest Regressor:\")\n",
    "print_evaluate(\"SVR\", y_test,svr_pred)"
   ]
  },
  {
   "cell_type": "code",
   "execution_count": null,
   "id": "64a407c6",
   "metadata": {},
   "outputs": [],
   "source": [
    "svr.get_params()"
   ]
  },
  {
   "cell_type": "code",
   "execution_count": null,
   "id": "245f9f92",
   "metadata": {},
   "outputs": [],
   "source": [
    "model=SVR()\n",
    "params={\n",
    "    'C':[1.0,0.1,10],\n",
    "    'kernel':['rbf', 'poly'],\n",
    "    'degree':[3,5],\n",
    "    'gamma':['scale',1]\n",
    "}\n",
    "best_params=grid_search(model,params)\n",
    "best_params"
   ]
  },
  {
   "cell_type": "code",
   "execution_count": null,
   "id": "4f5d7b1e",
   "metadata": {},
   "outputs": [],
   "source": [
    "svr_2=SVR(\n",
    "        C=best_params['C'],\n",
    "        kernel=best_params['kernel'],\n",
    "        degree=best_params['degree'],\n",
    "        gamma=best_params['gamma'],\n",
    ")\n",
    "svr_2.fit(X_train,y_train)\n",
    "\n",
    "svr_2_pred=svr_2.predict(X_test)\n",
    "\n",
    "print(\"Random Forest Regressor:\")\n",
    "print_evaluate(\"SVR Optimized\", y_test,svr_2_pred)"
   ]
  },
  {
   "cell_type": "code",
   "execution_count": null,
   "id": "71c5de99",
   "metadata": {},
   "outputs": [],
   "source": [
    "results_df"
   ]
  },
  {
   "cell_type": "markdown",
   "id": "1c776c0c",
   "metadata": {},
   "source": [
    "# Aula 30/04/24 - XGBoost"
   ]
  },
  {
   "cell_type": "code",
   "execution_count": null,
   "id": "9d79381c",
   "metadata": {},
   "outputs": [],
   "source": [
    "from xgboost.sklearn import XGBRegressor"
   ]
  },
  {
   "cell_type": "code",
   "execution_count": null,
   "id": "9731fb8b",
   "metadata": {},
   "outputs": [],
   "source": [
    "# Create a xgboost regressor\n",
    "xgb = XGBRegressor()\n",
    "\n",
    "# Train it\n",
    "\n",
    "xgb.fit(X_train,y_train)\n",
    "\n",
    "# Make predictions on the test dataset\n",
    "xgb_pred = xgb.predict(X_test)\n",
    "\n",
    "print(\"XGBoost Regressor\")\n",
    "print_evaluate(\"XGBoost\", y_test, xgb_pred)"
   ]
  },
  {
   "cell_type": "code",
   "execution_count": null,
   "id": "860338c9",
   "metadata": {},
   "outputs": [],
   "source": [
    "xgb.get_params()"
   ]
  },
  {
   "cell_type": "code",
   "execution_count": null,
   "id": "20c585dd",
   "metadata": {},
   "outputs": [],
   "source": [
    "model = XGBRegressor()\n",
    "params={\n",
    "    'booster':['gbtree','gblinear'],\n",
    "    'learning_rate':[0.01,0.01],\n",
    "    'n_estimators':[100,500],\n",
    "    'objective':['reg:squarederror']\n",
    "}\n",
    "\n",
    "best_params=grid_search(model, params)\n",
    "best_params"
   ]
  },
  {
   "cell_type": "code",
   "execution_count": null,
   "id": "e90eb3f0",
   "metadata": {},
   "outputs": [],
   "source": [
    "# Create a xgboost regressor\n",
    "xgb_2 = XGBRegressor(\n",
    "    booster=best_params['booster'],\n",
    "    learning_rate=best_params['learning_rate'],\n",
    "    n_estimators=best_params['n_estimators'],\n",
    "    objective=best_params['objective']\n",
    ")\n",
    "\n",
    "# Train it\n",
    "\n",
    "xgb_2.fit(X_train,y_train)\n",
    "\n",
    "# Make predictions on the test dataset\n",
    "xgb_pred_2 = xgb_2.predict(X_test)\n",
    "\n",
    "print(\"XGBoost Regressor\")\n",
    "print_evaluate(\"XGBoost\", y_test, xgb_pred_2)"
   ]
  },
  {
   "cell_type": "code",
   "execution_count": null,
   "id": "641dc6cd",
   "metadata": {},
   "outputs": [],
   "source": []
  }
 ],
 "metadata": {
  "kernelspec": {
   "display_name": "Python 3 (ipykernel)",
   "language": "python",
   "name": "python3"
  },
  "language_info": {
   "codemirror_mode": {
    "name": "ipython",
    "version": 3
   },
   "file_extension": ".py",
   "mimetype": "text/x-python",
   "name": "python",
   "nbconvert_exporter": "python",
   "pygments_lexer": "ipython3",
   "version": "3.12.3"
  }
 },
 "nbformat": 4,
 "nbformat_minor": 5
}
